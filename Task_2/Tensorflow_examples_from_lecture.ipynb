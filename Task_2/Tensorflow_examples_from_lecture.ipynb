{
 "cells": [
  {
   "cell_type": "code",
   "execution_count": null,
   "metadata": {
    "collapsed": true
   },
   "outputs": [],
   "source": [
    "x = tf.placeholder(tf.float32, None)\n",
    "label = tf.placeholder(tf.float32, None)\n",
    "weight = tf.Variable(0.5)\n",
    "output = x * weight\n",
    "loss = 0.5 * tf.square(label - output)\n",
    "optimizer = tf.train.GradientDescentOptimizer(learning_rate = 0.5)\n",
    "optimization_step = optimizer.minimize(loss)\n",
    "with tf.Session() as session:\n",
    "    session.run(tf.global_variables_initializer())\n",
    "    for step in range(15):\n",
    "        _loss, _weight, _ = session.run([loss, weight, optimization_step],feed_dict = {x: 1, label: 5})\n",
    "        print(_loss, _weight)"
   ]
  },
  {
   "cell_type": "code",
   "execution_count": 12,
   "metadata": {
    "collapsed": false
   },
   "outputs": [
    {
     "name": "stdout",
     "output_type": "stream",
     "text": [
      "10.125 2.75\n",
      "2.53125 3.875\n",
      "0.632813 4.4375\n",
      "0.158203 4.71875\n",
      "0.0395508 4.85938\n",
      "0.0098877 4.92969\n",
      "0.00247192 4.96484\n",
      "0.000617981 4.98242\n",
      "0.000154495 4.99121\n",
      "3.86238e-05 4.99561\n",
      "9.65595e-06 4.9978\n",
      "2.41399e-06 4.9989\n",
      "6.03497e-07 4.99945\n",
      "1.50874e-07 4.99973\n",
      "3.77186e-08 4.99986\n"
     ]
    }
   ],
   "source": [
    "x = tf.placeholder(tf.float32, None)\n",
    "label = tf.placeholder(tf.float32, None)\n",
    "weight = tf.Variable(0.5)\n",
    "output = x * weight\n",
    "loss = 0.5 * tf.square(label - output)\n",
    "optimizer = tf.train.GradientDescentOptimizer(learning_rate = 0.5)\n",
    "optimization_step = optimizer.minimize(loss)\n",
    "with tf.Session() as session:\n",
    "    session.run(tf.global_variables_initializer())\n",
    "    for step in range(15):\n",
    "        _loss, _weight, _ = session.run([loss, weight, optimization_step],feed_dict = {x: 1, label: 5})\n",
    "        print(_loss, _weight)"
   ]
  },
  {
   "cell_type": "code",
   "execution_count": null,
   "metadata": {
    "collapsed": true
   },
   "outputs": [],
   "source": []
  }
 ],
 "metadata": {
  "anaconda-cloud": {},
  "kernelspec": {
   "display_name": "Python [conda root]",
   "language": "python",
   "name": "conda-root-py"
  },
  "language_info": {
   "codemirror_mode": {
    "name": "ipython",
    "version": 3
   },
   "file_extension": ".py",
   "mimetype": "text/x-python",
   "name": "python",
   "nbconvert_exporter": "python",
   "pygments_lexer": "ipython3",
   "version": "3.5.2"
  }
 },
 "nbformat": 4,
 "nbformat_minor": 1
}
